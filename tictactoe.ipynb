{
  "nbformat": 4,
  "nbformat_minor": 0,
  "metadata": {
    "colab": {
      "provenance": [],
      "include_colab_link": true
    },
    "kernelspec": {
      "name": "python3",
      "display_name": "Python 3"
    },
    "language_info": {
      "name": "python"
    }
  },
  "cells": [
    {
      "cell_type": "markdown",
      "metadata": {
        "id": "view-in-github",
        "colab_type": "text"
      },
      "source": [
        "<a href=\"https://colab.research.google.com/github/Zitharth/Tictactoe/blob/main/tictactoe.ipynb\" target=\"_parent\"><img src=\"https://colab.research.google.com/assets/colab-badge.svg\" alt=\"Open In Colab\"/></a>"
      ]
    },
    {
      "cell_type": "code",
      "execution_count": 3,
      "metadata": {
        "id": "-Zq2K36jkvHq"
      },
      "outputs": [],
      "source": [
        "import pandas as pd\n",
        "import numpy as np"
      ]
    },
    {
      "cell_type": "code",
      "source": [
        "from google.colab import drive\n",
        "drive.mount('/content/drive')"
      ],
      "metadata": {
        "colab": {
          "base_uri": "https://localhost:8080/"
        },
        "id": "o-2svNfH7gnj",
        "outputId": "248127c0-abe3-4d12-afea-4827bbb4b04c"
      },
      "execution_count": 4,
      "outputs": [
        {
          "output_type": "stream",
          "name": "stdout",
          "text": [
            "Mounted at /content/drive\n"
          ]
        }
      ]
    },
    {
      "cell_type": "code",
      "source": [
        "df = pd.read_csv(\"/content/drive/MyDrive/data/Tictactoe/tic-tac-toe-endgame.csv\")\n",
        "df.head()"
      ],
      "metadata": {
        "colab": {
          "base_uri": "https://localhost:8080/",
          "height": 206
        },
        "id": "ZrNlC8JNptGk",
        "outputId": "695f8f57-616f-4f58-d5bc-fcd8c1f64fcd"
      },
      "execution_count": 5,
      "outputs": [
        {
          "output_type": "execute_result",
          "data": {
            "text/plain": [
              "  V1 V2 V3 V4 V5 V6 V7 V8 V9       V10\n",
              "0  x  x  x  x  o  o  x  o  o  positive\n",
              "1  x  x  x  x  o  o  o  x  o  positive\n",
              "2  x  x  x  x  o  o  o  o  x  positive\n",
              "3  x  x  x  x  o  o  o  b  b  positive\n",
              "4  x  x  x  x  o  o  b  o  b  positive"
            ],
            "text/html": [
              "\n",
              "  <div id=\"df-668adcae-c060-4f75-80d3-1a74cc0c56b6\">\n",
              "    <div class=\"colab-df-container\">\n",
              "      <div>\n",
              "<style scoped>\n",
              "    .dataframe tbody tr th:only-of-type {\n",
              "        vertical-align: middle;\n",
              "    }\n",
              "\n",
              "    .dataframe tbody tr th {\n",
              "        vertical-align: top;\n",
              "    }\n",
              "\n",
              "    .dataframe thead th {\n",
              "        text-align: right;\n",
              "    }\n",
              "</style>\n",
              "<table border=\"1\" class=\"dataframe\">\n",
              "  <thead>\n",
              "    <tr style=\"text-align: right;\">\n",
              "      <th></th>\n",
              "      <th>V1</th>\n",
              "      <th>V2</th>\n",
              "      <th>V3</th>\n",
              "      <th>V4</th>\n",
              "      <th>V5</th>\n",
              "      <th>V6</th>\n",
              "      <th>V7</th>\n",
              "      <th>V8</th>\n",
              "      <th>V9</th>\n",
              "      <th>V10</th>\n",
              "    </tr>\n",
              "  </thead>\n",
              "  <tbody>\n",
              "    <tr>\n",
              "      <th>0</th>\n",
              "      <td>x</td>\n",
              "      <td>x</td>\n",
              "      <td>x</td>\n",
              "      <td>x</td>\n",
              "      <td>o</td>\n",
              "      <td>o</td>\n",
              "      <td>x</td>\n",
              "      <td>o</td>\n",
              "      <td>o</td>\n",
              "      <td>positive</td>\n",
              "    </tr>\n",
              "    <tr>\n",
              "      <th>1</th>\n",
              "      <td>x</td>\n",
              "      <td>x</td>\n",
              "      <td>x</td>\n",
              "      <td>x</td>\n",
              "      <td>o</td>\n",
              "      <td>o</td>\n",
              "      <td>o</td>\n",
              "      <td>x</td>\n",
              "      <td>o</td>\n",
              "      <td>positive</td>\n",
              "    </tr>\n",
              "    <tr>\n",
              "      <th>2</th>\n",
              "      <td>x</td>\n",
              "      <td>x</td>\n",
              "      <td>x</td>\n",
              "      <td>x</td>\n",
              "      <td>o</td>\n",
              "      <td>o</td>\n",
              "      <td>o</td>\n",
              "      <td>o</td>\n",
              "      <td>x</td>\n",
              "      <td>positive</td>\n",
              "    </tr>\n",
              "    <tr>\n",
              "      <th>3</th>\n",
              "      <td>x</td>\n",
              "      <td>x</td>\n",
              "      <td>x</td>\n",
              "      <td>x</td>\n",
              "      <td>o</td>\n",
              "      <td>o</td>\n",
              "      <td>o</td>\n",
              "      <td>b</td>\n",
              "      <td>b</td>\n",
              "      <td>positive</td>\n",
              "    </tr>\n",
              "    <tr>\n",
              "      <th>4</th>\n",
              "      <td>x</td>\n",
              "      <td>x</td>\n",
              "      <td>x</td>\n",
              "      <td>x</td>\n",
              "      <td>o</td>\n",
              "      <td>o</td>\n",
              "      <td>b</td>\n",
              "      <td>o</td>\n",
              "      <td>b</td>\n",
              "      <td>positive</td>\n",
              "    </tr>\n",
              "  </tbody>\n",
              "</table>\n",
              "</div>\n",
              "      <button class=\"colab-df-convert\" onclick=\"convertToInteractive('df-668adcae-c060-4f75-80d3-1a74cc0c56b6')\"\n",
              "              title=\"Convert this dataframe to an interactive table.\"\n",
              "              style=\"display:none;\">\n",
              "        \n",
              "  <svg xmlns=\"http://www.w3.org/2000/svg\" height=\"24px\"viewBox=\"0 0 24 24\"\n",
              "       width=\"24px\">\n",
              "    <path d=\"M0 0h24v24H0V0z\" fill=\"none\"/>\n",
              "    <path d=\"M18.56 5.44l.94 2.06.94-2.06 2.06-.94-2.06-.94-.94-2.06-.94 2.06-2.06.94zm-11 1L8.5 8.5l.94-2.06 2.06-.94-2.06-.94L8.5 2.5l-.94 2.06-2.06.94zm10 10l.94 2.06.94-2.06 2.06-.94-2.06-.94-.94-2.06-.94 2.06-2.06.94z\"/><path d=\"M17.41 7.96l-1.37-1.37c-.4-.4-.92-.59-1.43-.59-.52 0-1.04.2-1.43.59L10.3 9.45l-7.72 7.72c-.78.78-.78 2.05 0 2.83L4 21.41c.39.39.9.59 1.41.59.51 0 1.02-.2 1.41-.59l7.78-7.78 2.81-2.81c.8-.78.8-2.07 0-2.86zM5.41 20L4 18.59l7.72-7.72 1.47 1.35L5.41 20z\"/>\n",
              "  </svg>\n",
              "      </button>\n",
              "      \n",
              "  <style>\n",
              "    .colab-df-container {\n",
              "      display:flex;\n",
              "      flex-wrap:wrap;\n",
              "      gap: 12px;\n",
              "    }\n",
              "\n",
              "    .colab-df-convert {\n",
              "      background-color: #E8F0FE;\n",
              "      border: none;\n",
              "      border-radius: 50%;\n",
              "      cursor: pointer;\n",
              "      display: none;\n",
              "      fill: #1967D2;\n",
              "      height: 32px;\n",
              "      padding: 0 0 0 0;\n",
              "      width: 32px;\n",
              "    }\n",
              "\n",
              "    .colab-df-convert:hover {\n",
              "      background-color: #E2EBFA;\n",
              "      box-shadow: 0px 1px 2px rgba(60, 64, 67, 0.3), 0px 1px 3px 1px rgba(60, 64, 67, 0.15);\n",
              "      fill: #174EA6;\n",
              "    }\n",
              "\n",
              "    [theme=dark] .colab-df-convert {\n",
              "      background-color: #3B4455;\n",
              "      fill: #D2E3FC;\n",
              "    }\n",
              "\n",
              "    [theme=dark] .colab-df-convert:hover {\n",
              "      background-color: #434B5C;\n",
              "      box-shadow: 0px 1px 3px 1px rgba(0, 0, 0, 0.15);\n",
              "      filter: drop-shadow(0px 1px 2px rgba(0, 0, 0, 0.3));\n",
              "      fill: #FFFFFF;\n",
              "    }\n",
              "  </style>\n",
              "\n",
              "      <script>\n",
              "        const buttonEl =\n",
              "          document.querySelector('#df-668adcae-c060-4f75-80d3-1a74cc0c56b6 button.colab-df-convert');\n",
              "        buttonEl.style.display =\n",
              "          google.colab.kernel.accessAllowed ? 'block' : 'none';\n",
              "\n",
              "        async function convertToInteractive(key) {\n",
              "          const element = document.querySelector('#df-668adcae-c060-4f75-80d3-1a74cc0c56b6');\n",
              "          const dataTable =\n",
              "            await google.colab.kernel.invokeFunction('convertToInteractive',\n",
              "                                                     [key], {});\n",
              "          if (!dataTable) return;\n",
              "\n",
              "          const docLinkHtml = 'Like what you see? Visit the ' +\n",
              "            '<a target=\"_blank\" href=https://colab.research.google.com/notebooks/data_table.ipynb>data table notebook</a>'\n",
              "            + ' to learn more about interactive tables.';\n",
              "          element.innerHTML = '';\n",
              "          dataTable['output_type'] = 'display_data';\n",
              "          await google.colab.output.renderOutput(dataTable, element);\n",
              "          const docLink = document.createElement('div');\n",
              "          docLink.innerHTML = docLinkHtml;\n",
              "          element.appendChild(docLink);\n",
              "        }\n",
              "      </script>\n",
              "    </div>\n",
              "  </div>\n",
              "  "
            ]
          },
          "metadata": {},
          "execution_count": 5
        }
      ]
    },
    {
      "cell_type": "markdown",
      "source": [
        "Encoding the the result with 0 and one"
      ],
      "metadata": {
        "id": "kZAOus2RwRL8"
      }
    },
    {
      "cell_type": "code",
      "source": [
        "from sklearn import preprocessing\n",
        "label_encoder = preprocessing.LabelEncoder()\n",
        "\n",
        "df['V10'] = label_encoder.fit_transform(df['V10'])\n",
        "  \n",
        "df['V10'].unique()"
      ],
      "metadata": {
        "colab": {
          "base_uri": "https://localhost:8080/"
        },
        "id": "w74Gtsmsv749",
        "outputId": "207af7ee-96fa-4ca6-866d-7faefc247973"
      },
      "execution_count": 6,
      "outputs": [
        {
          "output_type": "execute_result",
          "data": {
            "text/plain": [
              "array([1, 0])"
            ]
          },
          "metadata": {},
          "execution_count": 6
        }
      ]
    },
    {
      "cell_type": "code",
      "source": [
        "df.head()"
      ],
      "metadata": {
        "colab": {
          "base_uri": "https://localhost:8080/",
          "height": 206
        },
        "id": "gO7MYZMfIpc_",
        "outputId": "c9775ff7-e5d3-4b50-f549-eb3531f83981"
      },
      "execution_count": 7,
      "outputs": [
        {
          "output_type": "execute_result",
          "data": {
            "text/plain": [
              "  V1 V2 V3 V4 V5 V6 V7 V8 V9  V10\n",
              "0  x  x  x  x  o  o  x  o  o    1\n",
              "1  x  x  x  x  o  o  o  x  o    1\n",
              "2  x  x  x  x  o  o  o  o  x    1\n",
              "3  x  x  x  x  o  o  o  b  b    1\n",
              "4  x  x  x  x  o  o  b  o  b    1"
            ],
            "text/html": [
              "\n",
              "  <div id=\"df-1c7f4c3e-c921-4279-b1c5-322a6cd61c80\">\n",
              "    <div class=\"colab-df-container\">\n",
              "      <div>\n",
              "<style scoped>\n",
              "    .dataframe tbody tr th:only-of-type {\n",
              "        vertical-align: middle;\n",
              "    }\n",
              "\n",
              "    .dataframe tbody tr th {\n",
              "        vertical-align: top;\n",
              "    }\n",
              "\n",
              "    .dataframe thead th {\n",
              "        text-align: right;\n",
              "    }\n",
              "</style>\n",
              "<table border=\"1\" class=\"dataframe\">\n",
              "  <thead>\n",
              "    <tr style=\"text-align: right;\">\n",
              "      <th></th>\n",
              "      <th>V1</th>\n",
              "      <th>V2</th>\n",
              "      <th>V3</th>\n",
              "      <th>V4</th>\n",
              "      <th>V5</th>\n",
              "      <th>V6</th>\n",
              "      <th>V7</th>\n",
              "      <th>V8</th>\n",
              "      <th>V9</th>\n",
              "      <th>V10</th>\n",
              "    </tr>\n",
              "  </thead>\n",
              "  <tbody>\n",
              "    <tr>\n",
              "      <th>0</th>\n",
              "      <td>x</td>\n",
              "      <td>x</td>\n",
              "      <td>x</td>\n",
              "      <td>x</td>\n",
              "      <td>o</td>\n",
              "      <td>o</td>\n",
              "      <td>x</td>\n",
              "      <td>o</td>\n",
              "      <td>o</td>\n",
              "      <td>1</td>\n",
              "    </tr>\n",
              "    <tr>\n",
              "      <th>1</th>\n",
              "      <td>x</td>\n",
              "      <td>x</td>\n",
              "      <td>x</td>\n",
              "      <td>x</td>\n",
              "      <td>o</td>\n",
              "      <td>o</td>\n",
              "      <td>o</td>\n",
              "      <td>x</td>\n",
              "      <td>o</td>\n",
              "      <td>1</td>\n",
              "    </tr>\n",
              "    <tr>\n",
              "      <th>2</th>\n",
              "      <td>x</td>\n",
              "      <td>x</td>\n",
              "      <td>x</td>\n",
              "      <td>x</td>\n",
              "      <td>o</td>\n",
              "      <td>o</td>\n",
              "      <td>o</td>\n",
              "      <td>o</td>\n",
              "      <td>x</td>\n",
              "      <td>1</td>\n",
              "    </tr>\n",
              "    <tr>\n",
              "      <th>3</th>\n",
              "      <td>x</td>\n",
              "      <td>x</td>\n",
              "      <td>x</td>\n",
              "      <td>x</td>\n",
              "      <td>o</td>\n",
              "      <td>o</td>\n",
              "      <td>o</td>\n",
              "      <td>b</td>\n",
              "      <td>b</td>\n",
              "      <td>1</td>\n",
              "    </tr>\n",
              "    <tr>\n",
              "      <th>4</th>\n",
              "      <td>x</td>\n",
              "      <td>x</td>\n",
              "      <td>x</td>\n",
              "      <td>x</td>\n",
              "      <td>o</td>\n",
              "      <td>o</td>\n",
              "      <td>b</td>\n",
              "      <td>o</td>\n",
              "      <td>b</td>\n",
              "      <td>1</td>\n",
              "    </tr>\n",
              "  </tbody>\n",
              "</table>\n",
              "</div>\n",
              "      <button class=\"colab-df-convert\" onclick=\"convertToInteractive('df-1c7f4c3e-c921-4279-b1c5-322a6cd61c80')\"\n",
              "              title=\"Convert this dataframe to an interactive table.\"\n",
              "              style=\"display:none;\">\n",
              "        \n",
              "  <svg xmlns=\"http://www.w3.org/2000/svg\" height=\"24px\"viewBox=\"0 0 24 24\"\n",
              "       width=\"24px\">\n",
              "    <path d=\"M0 0h24v24H0V0z\" fill=\"none\"/>\n",
              "    <path d=\"M18.56 5.44l.94 2.06.94-2.06 2.06-.94-2.06-.94-.94-2.06-.94 2.06-2.06.94zm-11 1L8.5 8.5l.94-2.06 2.06-.94-2.06-.94L8.5 2.5l-.94 2.06-2.06.94zm10 10l.94 2.06.94-2.06 2.06-.94-2.06-.94-.94-2.06-.94 2.06-2.06.94z\"/><path d=\"M17.41 7.96l-1.37-1.37c-.4-.4-.92-.59-1.43-.59-.52 0-1.04.2-1.43.59L10.3 9.45l-7.72 7.72c-.78.78-.78 2.05 0 2.83L4 21.41c.39.39.9.59 1.41.59.51 0 1.02-.2 1.41-.59l7.78-7.78 2.81-2.81c.8-.78.8-2.07 0-2.86zM5.41 20L4 18.59l7.72-7.72 1.47 1.35L5.41 20z\"/>\n",
              "  </svg>\n",
              "      </button>\n",
              "      \n",
              "  <style>\n",
              "    .colab-df-container {\n",
              "      display:flex;\n",
              "      flex-wrap:wrap;\n",
              "      gap: 12px;\n",
              "    }\n",
              "\n",
              "    .colab-df-convert {\n",
              "      background-color: #E8F0FE;\n",
              "      border: none;\n",
              "      border-radius: 50%;\n",
              "      cursor: pointer;\n",
              "      display: none;\n",
              "      fill: #1967D2;\n",
              "      height: 32px;\n",
              "      padding: 0 0 0 0;\n",
              "      width: 32px;\n",
              "    }\n",
              "\n",
              "    .colab-df-convert:hover {\n",
              "      background-color: #E2EBFA;\n",
              "      box-shadow: 0px 1px 2px rgba(60, 64, 67, 0.3), 0px 1px 3px 1px rgba(60, 64, 67, 0.15);\n",
              "      fill: #174EA6;\n",
              "    }\n",
              "\n",
              "    [theme=dark] .colab-df-convert {\n",
              "      background-color: #3B4455;\n",
              "      fill: #D2E3FC;\n",
              "    }\n",
              "\n",
              "    [theme=dark] .colab-df-convert:hover {\n",
              "      background-color: #434B5C;\n",
              "      box-shadow: 0px 1px 3px 1px rgba(0, 0, 0, 0.15);\n",
              "      filter: drop-shadow(0px 1px 2px rgba(0, 0, 0, 0.3));\n",
              "      fill: #FFFFFF;\n",
              "    }\n",
              "  </style>\n",
              "\n",
              "      <script>\n",
              "        const buttonEl =\n",
              "          document.querySelector('#df-1c7f4c3e-c921-4279-b1c5-322a6cd61c80 button.colab-df-convert');\n",
              "        buttonEl.style.display =\n",
              "          google.colab.kernel.accessAllowed ? 'block' : 'none';\n",
              "\n",
              "        async function convertToInteractive(key) {\n",
              "          const element = document.querySelector('#df-1c7f4c3e-c921-4279-b1c5-322a6cd61c80');\n",
              "          const dataTable =\n",
              "            await google.colab.kernel.invokeFunction('convertToInteractive',\n",
              "                                                     [key], {});\n",
              "          if (!dataTable) return;\n",
              "\n",
              "          const docLinkHtml = 'Like what you see? Visit the ' +\n",
              "            '<a target=\"_blank\" href=https://colab.research.google.com/notebooks/data_table.ipynb>data table notebook</a>'\n",
              "            + ' to learn more about interactive tables.';\n",
              "          element.innerHTML = '';\n",
              "          dataTable['output_type'] = 'display_data';\n",
              "          await google.colab.output.renderOutput(dataTable, element);\n",
              "          const docLink = document.createElement('div');\n",
              "          docLink.innerHTML = docLinkHtml;\n",
              "          element.appendChild(docLink);\n",
              "        }\n",
              "      </script>\n",
              "    </div>\n",
              "  </div>\n",
              "  "
            ]
          },
          "metadata": {},
          "execution_count": 7
        }
      ]
    },
    {
      "cell_type": "code",
      "source": [
        "df.shape"
      ],
      "metadata": {
        "colab": {
          "base_uri": "https://localhost:8080/"
        },
        "id": "De7d_tz-wL6m",
        "outputId": "1cda136d-69f5-49aa-a9f2-8c4762a36c04"
      },
      "execution_count": 51,
      "outputs": [
        {
          "output_type": "execute_result",
          "data": {
            "text/plain": [
              "(958, 10)"
            ]
          },
          "metadata": {},
          "execution_count": 51
        }
      ]
    },
    {
      "cell_type": "markdown",
      "source": [
        "<h3>Conditional Probablility Table</h3>"
      ],
      "metadata": {
        "id": "nwjFBkf2xXHL"
      }
    },
    {
      "cell_type": "markdown",
      "source": [
        "final[1] -> Total no of wins\n",
        "<p>final[0] -> Total no of loss</p>"
      ],
      "metadata": {
        "id": "8N24DlCMlJ5E"
      }
    },
    {
      "cell_type": "code",
      "source": [
        "final = df['V10'].value_counts()\n",
        "final"
      ],
      "metadata": {
        "colab": {
          "base_uri": "https://localhost:8080/"
        },
        "id": "ZM3D0J8WZuEb",
        "outputId": "61cea600-da34-4169-b9bc-ed2ee3cecc3f"
      },
      "execution_count": 24,
      "outputs": [
        {
          "output_type": "execute_result",
          "data": {
            "text/plain": [
              "1    626\n",
              "0    332\n",
              "Name: V10, dtype: int64"
            ]
          },
          "metadata": {},
          "execution_count": 24
        }
      ]
    },
    {
      "cell_type": "code",
      "source": [
        "total = len(df['V10'])\n",
        "total"
      ],
      "metadata": {
        "colab": {
          "base_uri": "https://localhost:8080/"
        },
        "id": "eZ4Xihf2wF2d",
        "outputId": "7029c842-3dd1-4487-eaa3-b986de8b590e"
      },
      "execution_count": 49,
      "outputs": [
        {
          "output_type": "execute_result",
          "data": {
            "text/plain": [
              "958"
            ]
          },
          "metadata": {},
          "execution_count": 49
        }
      ]
    },
    {
      "cell_type": "markdown",
      "source": [
        "P(win) and P(loss)"
      ],
      "metadata": {
        "id": "m5rG5B9a2-kU"
      }
    },
    {
      "cell_type": "code",
      "source": [
        "total_no = final[0]/total\n",
        "total_yes = final[1]/total"
      ],
      "metadata": {
        "id": "c5WDX8BAycr8"
      },
      "execution_count": 53,
      "outputs": []
    },
    {
      "cell_type": "code",
      "source": [
        "cols = df.columns\n",
        "cols = cols.drop('V10')\n",
        "lst_win = []\n",
        "for i in cols:\n",
        "  a = [0,0,0]\n",
        "  for j in range(len(df[i])):\n",
        "    if str(df[i][j]) == 'x' and df['V10'][j] == 1:\n",
        "      a[0] += 1\n",
        "    if str(df[i][j]) == 'o' and df['V10'][j] == 1:\n",
        "      a[1] += 1\n",
        "    if str(df[i][j]) == 'b' and df['V10'][j] == 1:\n",
        "      a[2] += 1\n",
        "  lst_win.append(a)"
      ],
      "metadata": {
        "id": "8epNLvUdaE80"
      },
      "execution_count": 27,
      "outputs": []
    },
    {
      "cell_type": "code",
      "source": [
        "lst_win"
      ],
      "metadata": {
        "colab": {
          "base_uri": "https://localhost:8080/"
        },
        "id": "EKmw8f6cdV30",
        "outputId": "56a708a6-3304-46f9-e1a8-35e2566d6964"
      },
      "execution_count": 28,
      "outputs": [
        {
          "output_type": "execute_result",
          "data": {
            "text/plain": [
              "[[295, 189, 142],\n",
              " [225, 229, 172],\n",
              " [295, 189, 142],\n",
              " [225, 229, 172],\n",
              " [366, 148, 112],\n",
              " [225, 229, 172],\n",
              " [295, 189, 142],\n",
              " [225, 229, 172],\n",
              " [295, 189, 142]]"
            ]
          },
          "metadata": {},
          "execution_count": 28
        }
      ]
    },
    {
      "cell_type": "code",
      "source": [
        "lst_loss = []\n",
        "for i in cols:\n",
        "  a = [0,0,0]\n",
        "  for j in range(len(df[i])):\n",
        "    if str(df[i][j]) == 'x' and df['V10'][j] == 0:\n",
        "      a[0] += 1\n",
        "    if str(df[i][j]) == 'o' and df['V10'][j] == 0:\n",
        "      a[1] += 1\n",
        "    if str(df[i][j]) == 'b' and df['V10'][j] == 0:\n",
        "      a[2] += 1\n",
        "  lst_loss.append(a)"
      ],
      "metadata": {
        "id": "eeIot2ZloB7H"
      },
      "execution_count": 36,
      "outputs": []
    },
    {
      "cell_type": "code",
      "source": [
        "lst_loss"
      ],
      "metadata": {
        "colab": {
          "base_uri": "https://localhost:8080/"
        },
        "id": "l5E_V8Ako3yc",
        "outputId": "98c12e3b-0686-421c-f936-e95bffe00741"
      },
      "execution_count": 37,
      "outputs": [
        {
          "output_type": "execute_result",
          "data": {
            "text/plain": [
              "[[123, 146, 63],\n",
              " [153, 101, 78],\n",
              " [123, 146, 63],\n",
              " [153, 101, 78],\n",
              " [92, 192, 48],\n",
              " [153, 101, 78],\n",
              " [123, 146, 63],\n",
              " [153, 101, 78],\n",
              " [123, 146, 63]]"
            ]
          },
          "metadata": {},
          "execution_count": 37
        }
      ]
    },
    {
      "cell_type": "code",
      "source": [
        "for i in range(len(lst_win)):\n",
        "  for j in range(3):\n",
        "    lst_win[i][j] = lst_win[i][j]/final[1]\n",
        "    lst_loss[i][j] = lst_loss[i][j]/final[0]"
      ],
      "metadata": {
        "id": "MlHfqdVfn046"
      },
      "execution_count": 38,
      "outputs": []
    },
    {
      "cell_type": "code",
      "source": [
        "lst_win"
      ],
      "metadata": {
        "colab": {
          "base_uri": "https://localhost:8080/"
        },
        "id": "QeJEa_xTpgVL",
        "outputId": "6dc02769-ca98-465d-b3c3-6b65016823f4"
      },
      "execution_count": 39,
      "outputs": [
        {
          "output_type": "execute_result",
          "data": {
            "text/plain": [
              "[[0.4712460063897764, 0.3019169329073482, 0.2268370607028754],\n",
              " [0.35942492012779553, 0.365814696485623, 0.2747603833865815],\n",
              " [0.4712460063897764, 0.3019169329073482, 0.2268370607028754],\n",
              " [0.35942492012779553, 0.365814696485623, 0.2747603833865815],\n",
              " [0.5846645367412141, 0.2364217252396166, 0.17891373801916932],\n",
              " [0.35942492012779553, 0.365814696485623, 0.2747603833865815],\n",
              " [0.4712460063897764, 0.3019169329073482, 0.2268370607028754],\n",
              " [0.35942492012779553, 0.365814696485623, 0.2747603833865815],\n",
              " [0.4712460063897764, 0.3019169329073482, 0.2268370607028754]]"
            ]
          },
          "metadata": {},
          "execution_count": 39
        }
      ]
    },
    {
      "cell_type": "code",
      "source": [
        "lst_loss"
      ],
      "metadata": {
        "colab": {
          "base_uri": "https://localhost:8080/"
        },
        "id": "bFKdeLR9piz-",
        "outputId": "a4c7cd14-9bdd-4b17-a3d1-64fc0511aad1"
      },
      "execution_count": 40,
      "outputs": [
        {
          "output_type": "execute_result",
          "data": {
            "text/plain": [
              "[[0.3704819277108434, 0.4397590361445783, 0.1897590361445783],\n",
              " [0.4608433734939759, 0.3042168674698795, 0.23493975903614459],\n",
              " [0.3704819277108434, 0.4397590361445783, 0.1897590361445783],\n",
              " [0.4608433734939759, 0.3042168674698795, 0.23493975903614459],\n",
              " [0.27710843373493976, 0.5783132530120482, 0.14457831325301204],\n",
              " [0.4608433734939759, 0.3042168674698795, 0.23493975903614459],\n",
              " [0.3704819277108434, 0.4397590361445783, 0.1897590361445783],\n",
              " [0.4608433734939759, 0.3042168674698795, 0.23493975903614459],\n",
              " [0.3704819277108434, 0.4397590361445783, 0.1897590361445783]]"
            ]
          },
          "metadata": {},
          "execution_count": 40
        }
      ]
    },
    {
      "cell_type": "code",
      "source": [
        "for i in range(len(cols)):\n",
        "  print(\"V\"+str(i+1)+\": \")\n",
        "  print(\"    win                loss\")\n",
        "  print(\"x: \"+str(lst_win[i][0])+\"  \"+str(lst_loss[i][0]))\n",
        "  print(\"0: \"+str(lst_win[i][1])+\"  \"+str(lst_loss[i][1]))\n",
        "  print(\"b: \"+str(lst_win[i][2])+\"  \"+str(lst_loss[i][2]))"
      ],
      "metadata": {
        "colab": {
          "base_uri": "https://localhost:8080/"
        },
        "id": "0VrAq5wLkfyK",
        "outputId": "1e375130-a2ca-4a46-e83b-d8fe8304dccb"
      },
      "execution_count": 47,
      "outputs": [
        {
          "output_type": "stream",
          "name": "stdout",
          "text": [
            "V1: \n",
            "    win                loss\n",
            "x: 0.4712460063897764  0.3704819277108434\n",
            "0: 0.3019169329073482  0.4397590361445783\n",
            "b: 0.2268370607028754  0.1897590361445783\n",
            "V2: \n",
            "    win                loss\n",
            "x: 0.35942492012779553  0.4608433734939759\n",
            "0: 0.365814696485623  0.3042168674698795\n",
            "b: 0.2747603833865815  0.23493975903614459\n",
            "V3: \n",
            "    win                loss\n",
            "x: 0.4712460063897764  0.3704819277108434\n",
            "0: 0.3019169329073482  0.4397590361445783\n",
            "b: 0.2268370607028754  0.1897590361445783\n",
            "V4: \n",
            "    win                loss\n",
            "x: 0.35942492012779553  0.4608433734939759\n",
            "0: 0.365814696485623  0.3042168674698795\n",
            "b: 0.2747603833865815  0.23493975903614459\n",
            "V5: \n",
            "    win                loss\n",
            "x: 0.5846645367412141  0.27710843373493976\n",
            "0: 0.2364217252396166  0.5783132530120482\n",
            "b: 0.17891373801916932  0.14457831325301204\n",
            "V6: \n",
            "    win                loss\n",
            "x: 0.35942492012779553  0.4608433734939759\n",
            "0: 0.365814696485623  0.3042168674698795\n",
            "b: 0.2747603833865815  0.23493975903614459\n",
            "V7: \n",
            "    win                loss\n",
            "x: 0.4712460063897764  0.3704819277108434\n",
            "0: 0.3019169329073482  0.4397590361445783\n",
            "b: 0.2268370607028754  0.1897590361445783\n",
            "V8: \n",
            "    win                loss\n",
            "x: 0.35942492012779553  0.4608433734939759\n",
            "0: 0.365814696485623  0.3042168674698795\n",
            "b: 0.2747603833865815  0.23493975903614459\n",
            "V9: \n",
            "    win                loss\n",
            "x: 0.4712460063897764  0.3704819277108434\n",
            "0: 0.3019169329073482  0.4397590361445783\n",
            "b: 0.2268370607028754  0.1897590361445783\n"
          ]
        }
      ]
    },
    {
      "cell_type": "markdown",
      "source": [
        "<h3>Model prediction</h3>"
      ],
      "metadata": {
        "id": "jmLHQGInwqkF"
      }
    },
    {
      "cell_type": "code",
      "source": [
        "def naive_bayes(a):\n",
        "  p_yes = []\n",
        "  p_no = []\n",
        "  for i in range(len(a)):\n",
        "    if a[i] == 'x':\n",
        "      p_yes.append(lst_win[i][0])\n",
        "      p_no.append(lst_loss[i][0])\n",
        "    if a[i] == 'o':\n",
        "      p_yes.append(lst_win[i][1])\n",
        "      p_no.append(lst_loss[i][1])\n",
        "    if a[i] == 'b':\n",
        "      p_yes.append(lst_win[i][2])\n",
        "      p_no.append(lst_loss[i][2])\n",
        "  print(p_yes)\n",
        "  print(p_no)\n",
        "  yes = total_yes\n",
        "  no = total_no\n",
        "  for i in range(len(p_yes)):\n",
        "    yes = yes*p_yes[i]\n",
        "    no = no*p_no[i]\n",
        "  ans = yes/(yes+no)\n",
        "  print(ans)\n",
        "  if ans > 0.5:\n",
        "    return(1)\n",
        "  else:\n",
        "    return(0)"
      ],
      "metadata": {
        "id": "yRaeDJYxw-7F"
      },
      "execution_count": 74,
      "outputs": []
    },
    {
      "cell_type": "code",
      "source": [
        "condition = ['o','x','x','x','o','o','x','o','o']\n",
        "prediction = naive_bayes(condition)\n",
        "print(\"The predictions is \", prediction)"
      ],
      "metadata": {
        "colab": {
          "base_uri": "https://localhost:8080/"
        },
        "id": "c_1dvqxbtW5I",
        "outputId": "7f5094a3-7085-4707-c056-70f9b9bd0d42"
      },
      "execution_count": 80,
      "outputs": [
        {
          "output_type": "stream",
          "name": "stdout",
          "text": [
            "[0.3019169329073482, 0.35942492012779553, 0.4712460063897764, 0.35942492012779553, 0.2364217252396166, 0.365814696485623, 0.4712460063897764, 0.365814696485623, 0.3019169329073482]\n",
            "[0.4397590361445783, 0.4608433734939759, 0.3704819277108434, 0.4608433734939759, 0.5783132530120482, 0.3042168674698795, 0.3704819277108434, 0.3042168674698795, 0.4397590361445783]\n",
            "0.3408259687492182\n",
            "The predictions is  0\n"
          ]
        }
      ]
    }
  ]
}